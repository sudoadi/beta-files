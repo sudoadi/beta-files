{
  "nbformat": 4,
  "nbformat_minor": 0,
  "metadata": {
    "colab": {
      "name": "UrlDn.ipynb",
      "provenance": [],
      "authorship_tag": "ABX9TyNIQVpm8SZaczeL4L3b9VpQ",
      "include_colab_link": true
    },
    "kernelspec": {
      "name": "python3",
      "display_name": "Python 3"
    },
    "language_info": {
      "name": "python"
    }
  },
  "cells": [
    {
      "cell_type": "markdown",
      "metadata": {
        "id": "view-in-github",
        "colab_type": "text"
      },
      "source": [
        "<a href=\"https://colab.research.google.com/github/sudoadi/beta-files/blob/main/UrlDn.ipynb\" target=\"_parent\"><img src=\"https://colab.research.google.com/assets/colab-badge.svg\" alt=\"Open In Colab\"/></a>"
      ]
    },
    {
      "cell_type": "code",
      "execution_count": 1,
      "metadata": {
        "colab": {
          "base_uri": "https://localhost:8080/"
        },
        "id": "H2Q7F0oQPZyV",
        "outputId": "22ae7fef-a405-4bf8-aec2-cbf49f746e7b"
      },
      "outputs": [
        {
          "output_type": "stream",
          "name": "stdout",
          "text": [
            "Mounted at /content/drive\n"
          ]
        }
      ],
      "source": [
        "from google.colab import drive\n",
        "drive.mount('/content/drive')"
      ]
    },
    {
      "cell_type": "code",
      "source": [
        "import os"
      ],
      "metadata": {
        "id": "vDSU6ydVPl_c"
      },
      "execution_count": 2,
      "outputs": []
    },
    {
      "cell_type": "code",
      "source": [
        "os.chdir(\"/content/drive/Shareddrives/Dora-Drive\")\n"
      ],
      "metadata": {
        "id": "nQAePmhbPvC5"
      },
      "execution_count": 3,
      "outputs": []
    },
    {
      "cell_type": "code",
      "source": [
        "!wget -c \"https://rr4---sn-qxaeenl6.googlevideo.com/videoplayback?expire=1647480233&ei=STkyYpyYNdbCrtoPnZKP6A8&ip=14.102.74.175&id=o-ACQuFjBuShonu6fKEFVzhKXkLKmJZXgfZUTlu_mXObLX&itag=137&aitags=133%2C134%2C135%2C136%2C137%2C160%2C242%2C243%2C244%2C247%2C248%2C278&source=youtube&requiressl=yes&mh=EK&mm=31%2C29&mn=sn-qxaeenl6%2Csn-qxaelnez&ms=au%2Crdu&mv=m&mvi=4&pl=24&initcwndbps=793750&vprv=1&mime=video%2Fmp4&ns=-jKRfa9vPfV1t2PP7AuQ4EEG&gir=yes&clen=8685568&otfp=1&dur=196.633&lmt=1593164349078763&mt=1647458243&fvip=2&keepalive=yes&fexp=24001373%2C24007246&c=WEB&txp=6216222&n=OR_SLOowswEAbKACI2UW&sparams=expire%2Cei%2Cip%2Cid%2Caitags%2Csource%2Crequiressl%2Cvprv%2Cmime%2Cns%2Cgir%2Cclen%2Cotfp%2Cdur%2Clmt&sig=AOq0QJ8wRQIgY7GnTry1oPwKx7CCldWraCmTG8mpDCMMV3VRKSbLVwUCIQC0hN541wk9qT06HEtlfdWnpDnLIc7Z9KyfnzunnblrTA%3D%3D&lsparams=mh%2Cmm%2Cmn%2Cms%2Cmv%2Cmvi%2Cpl%2Cinitcwndbps&lsig=AG3C_xAwRAIgVQOk9j4n6znGzk_u4uO10WJvUHmQRqrL8fekmOPhvEQCIG8RI3W95oaZquP-uVp_Bw_NkykrTlSz_JQL6RI8e0FC\" -O vid.mp4 --no-check-certificate"
      ],
      "metadata": {
        "colab": {
          "base_uri": "https://localhost:8080/"
        },
        "id": "xFAJR7ZXP7O9",
        "outputId": "f92da7e3-c8e7-40f9-be53-4ee1bed52db2"
      },
      "execution_count": null,
      "outputs": [
        {
          "output_type": "stream",
          "name": "stdout",
          "text": [
            "--2022-03-16 19:42:56--  https://rr4---sn-qxaeenl6.googlevideo.com/videoplayback?expire=1647480233&ei=STkyYpyYNdbCrtoPnZKP6A8&ip=14.102.74.175&id=o-ACQuFjBuShonu6fKEFVzhKXkLKmJZXgfZUTlu_mXObLX&itag=137&aitags=133%2C134%2C135%2C136%2C137%2C160%2C242%2C243%2C244%2C247%2C248%2C278&source=youtube&requiressl=yes&mh=EK&mm=31%2C29&mn=sn-qxaeenl6%2Csn-qxaelnez&ms=au%2Crdu&mv=m&mvi=4&pl=24&initcwndbps=793750&vprv=1&mime=video%2Fmp4&ns=-jKRfa9vPfV1t2PP7AuQ4EEG&gir=yes&clen=8685568&otfp=1&dur=196.633&lmt=1593164349078763&mt=1647458243&fvip=2&keepalive=yes&fexp=24001373%2C24007246&c=WEB&txp=6216222&n=OR_SLOowswEAbKACI2UW&sparams=expire%2Cei%2Cip%2Cid%2Caitags%2Csource%2Crequiressl%2Cvprv%2Cmime%2Cns%2Cgir%2Cclen%2Cotfp%2Cdur%2Clmt&sig=AOq0QJ8wRQIgY7GnTry1oPwKx7CCldWraCmTG8mpDCMMV3VRKSbLVwUCIQC0hN541wk9qT06HEtlfdWnpDnLIc7Z9KyfnzunnblrTA%3D%3D&lsparams=mh%2Cmm%2Cmn%2Cms%2Cmv%2Cmvi%2Cpl%2Cinitcwndbps&lsig=AG3C_xAwRAIgVQOk9j4n6znGzk_u4uO10WJvUHmQRqrL8fekmOPhvEQCIG8RI3W95oaZquP-uVp_Bw_NkykrTlSz_JQL6RI8e0FC\n",
            "Resolving rr4---sn-qxaeenl6.googlevideo.com (rr4---sn-qxaeenl6.googlevideo.com)... 172.217.139.73, 2404:6800:4002:b::9\n",
            "Connecting to rr4---sn-qxaeenl6.googlevideo.com (rr4---sn-qxaeenl6.googlevideo.com)|172.217.139.73|:443... connected.\n",
            "HTTP request sent, awaiting response... 302 Found\n",
            "Location: https://rr5---sn-qxoedn7z.googlevideo.com/videoplayback?expire=1647480233&ei=STkyYpyYNdbCrtoPnZKP6A8&ip=14.102.74.175&id=o-ACQuFjBuShonu6fKEFVzhKXkLKmJZXgfZUTlu_mXObLX&itag=137&aitags=133%2C134%2C135%2C136%2C137%2C160%2C242%2C243%2C244%2C247%2C248%2C278&source=youtube&requiressl=yes&vprv=1&mime=video%2Fmp4&ns=-jKRfa9vPfV1t2PP7AuQ4EEG&gir=yes&clen=8685568&otfp=1&dur=196.633&lmt=1593164349078763&keepalive=yes&fexp=24001373,24007246,24162928&c=WEB&txp=6216222&n=OR_SLOowswEAbKACI2UW&sparams=expire%2Cei%2Cip%2Cid%2Caitags%2Csource%2Crequiressl%2Cvprv%2Cmime%2Cns%2Cgir%2Cclen%2Cotfp%2Cdur%2Clmt&sig=AOq0QJ8wRQIgY7GnTry1oPwKx7CCldWraCmTG8mpDCMMV3VRKSbLVwUCIQC0hN541wk9qT06HEtlfdWnpDnLIc7Z9KyfnzunnblrTA%3D%3D&redirect_counter=1&rm=sn-qxale7z&req_id=61fab2f24549a3ee&cms_redirect=yes&ipbypass=yes&mh=EK&mip=34.133.187.117&mm=31&mn=sn-qxoedn7z&ms=au&mt=1647459435&mv=m&mvi=5&pl=22&lsparams=ipbypass,mh,mip,mm,mn,ms,mv,mvi,pl&lsig=AG3C_xAwRQIgbUONHUTOTNmZ9l409XbtePgrA-nzCERnZZs0gBOFBpkCIQDvshSIcZxBJHscfVxC7dAMCbH_Mc9v_73bCSTaBO-dmA%3D%3D [following]\n",
            "--2022-03-16 19:42:57--  https://rr5---sn-qxoedn7z.googlevideo.com/videoplayback?expire=1647480233&ei=STkyYpyYNdbCrtoPnZKP6A8&ip=14.102.74.175&id=o-ACQuFjBuShonu6fKEFVzhKXkLKmJZXgfZUTlu_mXObLX&itag=137&aitags=133%2C134%2C135%2C136%2C137%2C160%2C242%2C243%2C244%2C247%2C248%2C278&source=youtube&requiressl=yes&vprv=1&mime=video%2Fmp4&ns=-jKRfa9vPfV1t2PP7AuQ4EEG&gir=yes&clen=8685568&otfp=1&dur=196.633&lmt=1593164349078763&keepalive=yes&fexp=24001373,24007246,24162928&c=WEB&txp=6216222&n=OR_SLOowswEAbKACI2UW&sparams=expire%2Cei%2Cip%2Cid%2Caitags%2Csource%2Crequiressl%2Cvprv%2Cmime%2Cns%2Cgir%2Cclen%2Cotfp%2Cdur%2Clmt&sig=AOq0QJ8wRQIgY7GnTry1oPwKx7CCldWraCmTG8mpDCMMV3VRKSbLVwUCIQC0hN541wk9qT06HEtlfdWnpDnLIc7Z9KyfnzunnblrTA%3D%3D&redirect_counter=1&rm=sn-qxale7z&req_id=61fab2f24549a3ee&cms_redirect=yes&ipbypass=yes&mh=EK&mip=34.133.187.117&mm=31&mn=sn-qxoedn7z&ms=au&mt=1647459435&mv=m&mvi=5&pl=22&lsparams=ipbypass,mh,mip,mm,mn,ms,mv,mvi,pl&lsig=AG3C_xAwRQIgbUONHUTOTNmZ9l409XbtePgrA-nzCERnZZs0gBOFBpkCIQDvshSIcZxBJHscfVxC7dAMCbH_Mc9v_73bCSTaBO-dmA%3D%3D\n",
            "Resolving rr5---sn-qxoedn7z.googlevideo.com (rr5---sn-qxoedn7z.googlevideo.com)... 209.85.164.171, 2607:f8b0:400f:12::b\n",
            "Connecting to rr5---sn-qxoedn7z.googlevideo.com (rr5---sn-qxoedn7z.googlevideo.com)|209.85.164.171|:443... connected.\n",
            "HTTP request sent, awaiting response... 302 Found\n",
            "Location: https://rr5---sn-vgqs7nly.googlevideo.com/videoplayback?expire=1647480233&ei=STkyYpyYNdbCrtoPnZKP6A8&ip=14.102.74.175&id=o-ACQuFjBuShonu6fKEFVzhKXkLKmJZXgfZUTlu_mXObLX&itag=137&aitags=133%2C134%2C135%2C136%2C137%2C160%2C242%2C243%2C244%2C247%2C248%2C278&source=youtube&requiressl=yes&vprv=1&mime=video%2Fmp4&ns=-jKRfa9vPfV1t2PP7AuQ4EEG&gir=yes&clen=8685568&otfp=1&dur=196.633&lmt=1593164349078763&keepalive=yes&fexp=24001373,24007246,24162928&c=WEB&txp=6216222&n=OR_SLOowswEAbKACI2UW&sparams=expire%2Cei%2Cip%2Cid%2Caitags%2Csource%2Crequiressl%2Cvprv%2Cmime%2Cns%2Cgir%2Cclen%2Cotfp%2Cdur%2Clmt&sig=AOq0QJ8wRQIgY7GnTry1oPwKx7CCldWraCmTG8mpDCMMV3VRKSbLVwUCIQC0hN541wk9qT06HEtlfdWnpDnLIc7Z9KyfnzunnblrTA%3D%3D&rm=sn-qxale7z&req_id=61fab2f24549a3ee&ipbypass=yes&redirect_counter=2&cm2rm=sn-qxoss76&cms_redirect=yes&cmsv=e&mh=EK&mip=34.133.187.117&mm=34&mn=sn-vgqs7nly&ms=ltu&mt=1647459174&mv=u&mvi=5&pl=22&lsparams=ipbypass,mh,mip,mm,mn,ms,mv,mvi,pl&lsig=AG3C_xAwRgIhAICHZtUylUIaUiw6VRyafaVeD_WVIBzqxvhRc80fFuAiAiEAxNqKsgJKgzBXdULd25_4Nc5xlft7YxAVPWqziMxXmJA%3D [following]\n",
            "--2022-03-16 19:42:57--  https://rr5---sn-vgqs7nly.googlevideo.com/videoplayback?expire=1647480233&ei=STkyYpyYNdbCrtoPnZKP6A8&ip=14.102.74.175&id=o-ACQuFjBuShonu6fKEFVzhKXkLKmJZXgfZUTlu_mXObLX&itag=137&aitags=133%2C134%2C135%2C136%2C137%2C160%2C242%2C243%2C244%2C247%2C248%2C278&source=youtube&requiressl=yes&vprv=1&mime=video%2Fmp4&ns=-jKRfa9vPfV1t2PP7AuQ4EEG&gir=yes&clen=8685568&otfp=1&dur=196.633&lmt=1593164349078763&keepalive=yes&fexp=24001373,24007246,24162928&c=WEB&txp=6216222&n=OR_SLOowswEAbKACI2UW&sparams=expire%2Cei%2Cip%2Cid%2Caitags%2Csource%2Crequiressl%2Cvprv%2Cmime%2Cns%2Cgir%2Cclen%2Cotfp%2Cdur%2Clmt&sig=AOq0QJ8wRQIgY7GnTry1oPwKx7CCldWraCmTG8mpDCMMV3VRKSbLVwUCIQC0hN541wk9qT06HEtlfdWnpDnLIc7Z9KyfnzunnblrTA%3D%3D&rm=sn-qxale7z&req_id=61fab2f24549a3ee&ipbypass=yes&redirect_counter=2&cm2rm=sn-qxoss76&cms_redirect=yes&cmsv=e&mh=EK&mip=34.133.187.117&mm=34&mn=sn-vgqs7nly&ms=ltu&mt=1647459174&mv=u&mvi=5&pl=22&lsparams=ipbypass,mh,mip,mm,mn,ms,mv,mvi,pl&lsig=AG3C_xAwRgIhAICHZtUylUIaUiw6VRyafaVeD_WVIBzqxvhRc80fFuAiAiEAxNqKsgJKgzBXdULd25_4Nc5xlft7YxAVPWqziMxXmJA%3D\n",
            "Resolving rr5---sn-vgqs7nly.googlevideo.com (rr5---sn-vgqs7nly.googlevideo.com)... 74.125.159.27, 2607:f8b0:4009:33::b\n",
            "Connecting to rr5---sn-vgqs7nly.googlevideo.com (rr5---sn-vgqs7nly.googlevideo.com)|74.125.159.27|:443... connected.\n",
            "HTTP request sent, awaiting response... 200 OK\n",
            "Length: 8685568 (8.3M) [video/mp4]\n",
            "Saving to: ‘vid.mp4’\n",
            "\n",
            "vid.mp4              72%[=============>      ]   5.99M  66.4KB/s    eta 36s    "
          ]
        }
      ]
    }
  ]
}